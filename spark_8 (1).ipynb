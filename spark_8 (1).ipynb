{
 "cells": [
  {
   "cell_type": "code",
   "execution_count": 0,
   "metadata": {
    "application/vnd.databricks.v1+cell": {
     "cellMetadata": {
      "byteLimit": 2048000,
      "rowLimit": 10000
     },
     "inputWidgets": {},
     "nuid": "711e3451-dbfc-4bba-8082-16d43bb326b6",
     "showTitle": false,
     "title": ""
    }
   },
   "outputs": [],
   "source": [
    "# What is PySpark Accumulator?\n",
    "# Accumulators are write-only and initialize once variables where only tasks that are running on workers are allowed to update and updates from the #workers get propagated automatically to the driver program. But, only the driver program is allowed to access the Accumulator variable using the #value property.\n",
    "\n",
    "# an accumulator is a shared variable that can be used for aggregating values across multiple tasks in a parallel and fault-tolerant manner."
   ]
  },
  {
   "cell_type": "code",
   "execution_count": 0,
   "metadata": {
    "application/vnd.databricks.v1+cell": {
     "cellMetadata": {
      "byteLimit": 2048000,
      "rowLimit": 10000
     },
     "inputWidgets": {},
     "nuid": "c4f4b0e0-c29c-45c7-9261-c79c4d6917e0",
     "showTitle": false,
     "title": ""
    }
   },
   "outputs": [
    {
     "output_type": "stream",
     "name": "stdout",
     "output_type": "stream",
     "text": [
      "21\n"
     ]
    }
   ],
   "source": [
    "# Create an accumulator with an initial value of 0\n",
    "accum = spark.sparkContext.accumulator(0)\n",
    "rdd = spark.sparkContext.parallelize([1,2,3,4,5,6])\n",
    "rdd.foreach(lambda x: accum.add(x))\n",
    "print(accum.value)\n"
   ]
  },
  {
   "cell_type": "code",
   "execution_count": 0,
   "metadata": {
    "application/vnd.databricks.v1+cell": {
     "cellMetadata": {
      "byteLimit": 2048000,
      "rowLimit": 10000
     },
     "inputWidgets": {},
     "nuid": "c1e6dd97-5802-4c9a-b412-8d5e81f4690d",
     "showTitle": false,
     "title": ""
    }
   },
   "outputs": [],
   "source": [
    "#When foreach() applied on PySpark DataFrame, it executes a function specified in for each element of DataFrame.\n",
    "#In PySpark, the foreach action is used to apply a specified function to each element of an RDD (Resilient Distributed Dataset) or DataFrame. It is often used for performing side-effect operations, such as saving data to an external system, updating external variables, or any other operation that doesn't return a new RDD or DataFrame."
   ]
  },
  {
   "cell_type": "code",
   "execution_count": 0,
   "metadata": {
    "application/vnd.databricks.v1+cell": {
     "cellMetadata": {
      "byteLimit": 2048000,
      "rowLimit": 10000
     },
     "inputWidgets": {},
     "nuid": "b02a8a02-11c7-4629-90d3-6cecf96d5fef",
     "showTitle": false,
     "title": ""
    }
   },
   "outputs": [
    {
     "output_type": "stream",
     "name": "stdout",
     "output_type": "stream",
     "text": [
      "+-----+------------+\n|Seqno|        Name|\n+-----+------------+\n|    1|  john jones|\n|    2|tracey smith|\n|    3| amy sanders|\n+-----+------------+\n\n"
     ]
    }
   ],
   "source": [
    "columns = [\"Seqno\",\"Name\"]\n",
    "data = [(\"1\", \"john jones\"),\n",
    "    (\"2\", \"tracey smith\"),\n",
    "    (\"3\", \"amy sanders\")]\n",
    "df = spark.createDataFrame(data,columns)\n",
    "df.show()\n"
   ]
  },
  {
   "cell_type": "code",
   "execution_count": 0,
   "metadata": {
    "application/vnd.databricks.v1+cell": {
     "cellMetadata": {
      "byteLimit": 2048000,
      "rowLimit": 10000
     },
     "inputWidgets": {},
     "nuid": "9017cc5c-7c88-4ecc-9763-93200c02d66d",
     "showTitle": false,
     "title": ""
    }
   },
   "outputs": [],
   "source": [
    "def f(x):\n",
    "    print(x*2)\n"
   ]
  },
  {
   "cell_type": "code",
   "execution_count": 0,
   "metadata": {
    "application/vnd.databricks.v1+cell": {
     "cellMetadata": {
      "byteLimit": 2048000,
      "rowLimit": 10000
     },
     "inputWidgets": {},
     "nuid": "18510cdf-9630-409a-b2c2-0b5b2cd9a389",
     "showTitle": false,
     "title": ""
    }
   },
   "outputs": [],
   "source": [
    "data = [1, 2, 3, 4, 5]\n",
    "rdd = sc.parallelize(data)\n",
    "\n",
    "# Define a function to be applied using foreach\n",
    "def print_square(x):\n",
    "    print(x * x)\n",
    "\n",
    "# Use foreach to apply the function to each element in the RDD\n",
    "rdd.foreach(print_square)"
   ]
  },
  {
   "cell_type": "code",
   "execution_count": 0,
   "metadata": {
    "application/vnd.databricks.v1+cell": {
     "cellMetadata": {
      "byteLimit": 2048000,
      "rowLimit": 10000
     },
     "inputWidgets": {},
     "nuid": "8fddbb46-489b-4a73-bab4-1e3fe7217361",
     "showTitle": false,
     "title": ""
    }
   },
   "outputs": [
    {
     "output_type": "stream",
     "name": "stdout",
     "output_type": "stream",
     "text": [
      "+-------------------+\n|timestampCOL       |\n+-------------------+\n|2022-01-01 12:30:00|\n|2022-02-15 18:45:30|\n|2022-03-20 09:15:00|\n+-------------------+\n\n+-------------------+-------------------+\n|timestampCOL       |timestamp          |\n+-------------------+-------------------+\n|2022-01-01 12:30:00|2022-01-01 12:30:00|\n|2022-02-15 18:45:30|2022-02-15 18:45:30|\n|2022-03-20 09:15:00|2022-03-20 09:15:00|\n+-------------------+-------------------+\n\n"
     ]
    }
   ],
   "source": [
    "data = [(\"2022-01-01 12:30:00\",), (\"2022-02-15 18:45:30\",), (\"2022-03-20 09:15:00\",)]\n",
    "columns = [\"timestampCOL\"]\n",
    "df = spark.createDataFrame(data, columns)\n",
    "\n",
    "# Use to_timestamp to convert the timestamp string to a timestamp type\n",
    "df_transformed = df.withColumn(\"timestamp\", to_timestamp(\"timestampCOL\", \"yyyy-MM-dd HH:mm:ss\"))\n",
    "\n",
    "# Show the original and transformed DataFrames\n",
    "df.show(truncate=False)\n",
    "df_transformed.show(truncate=False)\n"
   ]
  },
  {
   "cell_type": "code",
   "execution_count": 0,
   "metadata": {
    "application/vnd.databricks.v1+cell": {
     "cellMetadata": {
      "byteLimit": 2048000,
      "rowLimit": 10000
     },
     "inputWidgets": {},
     "nuid": "3613cca9-5ce9-4ff4-ab44-3bdea5d456e6",
     "showTitle": false,
     "title": ""
    }
   },
   "outputs": [
    {
     "output_type": "stream",
     "name": "stdout",
     "output_type": "stream",
     "text": [
      "+---+-------+--------+-------------------+-----+----------+\n| id|zipcode|    type|               city|state|population|\n+---+-------+--------+-------------------+-----+----------+\n|  1|    704|STANDARD|               null|   PR|     30100|\n|  2|    704|    null|PASEO COSTA DEL SUR|   PR|      null|\n|  3|    709|    null|       BDA SAN LUIS|   PR|      3700|\n|  4|  76166|  UNIQUE|  CINGULAR WIRELESS|   TX|     84000|\n|  5|  76177|STANDARD|               null|   TX|      null|\n+---+-------+--------+-------------------+-----+----------+\n\n"
     ]
    }
   ],
   "source": [
    "#PySpark fillna() & fill() – Replace NULL/None Values\n",
    "#fillna(value, subset=None)\n",
    "#fill(value, subset=None)\n",
    "df = spark.read.csv('dbfs:/FileStore/small_zipcode.csv',header=True,inferSchema=True)\n",
    "df.show()"
   ]
  },
  {
   "cell_type": "code",
   "execution_count": 0,
   "metadata": {
    "application/vnd.databricks.v1+cell": {
     "cellMetadata": {
      "byteLimit": 2048000,
      "rowLimit": 10000
     },
     "inputWidgets": {},
     "nuid": "35a1f17d-7563-455d-9b86-34b991813f89",
     "showTitle": false,
     "title": ""
    }
   },
   "outputs": [
    {
     "output_type": "stream",
     "name": "stdout",
     "output_type": "stream",
     "text": [
      "+---+-------+--------+-------------------+-----+----------+\n| id|zipcode|    type|               city|state|population|\n+---+-------+--------+-------------------+-----+----------+\n|  1|    704|STANDARD|               null|   PR|     30100|\n|  2|    704|    null|PASEO COSTA DEL SUR|   PR|         0|\n|  3|    709|    null|       BDA SAN LUIS|   PR|      3700|\n|  4|  76166|  UNIQUE|  CINGULAR WIRELESS|   TX|     84000|\n|  5|  76177|STANDARD|               null|   TX|         0|\n+---+-------+--------+-------------------+-----+----------+\n\n"
     ]
    }
   ],
   "source": [
    "#Replace 0 for null for all integer columns\n",
    "df.na.fill(value=0).show()"
   ]
  },
  {
   "cell_type": "code",
   "execution_count": 0,
   "metadata": {
    "application/vnd.databricks.v1+cell": {
     "cellMetadata": {
      "byteLimit": 2048000,
      "rowLimit": 10000
     },
     "inputWidgets": {},
     "nuid": "3c7312ba-abbb-4dc9-bafd-7bfbd7b90d55",
     "showTitle": false,
     "title": ""
    }
   },
   "outputs": [
    {
     "output_type": "display_data",
     "data": {
      "text/plain": [
       "\u001B[0;36m  File \u001B[0;32m<command-2259084633578734>:2\u001B[0;36m\u001B[0m\n",
       "\u001B[0;31m    df.na.fill(value=0,[\"population\"]).show()\u001B[0m\n",
       "\u001B[0m                                     ^\u001B[0m\n",
       "\u001B[0;31mSyntaxError\u001B[0m\u001B[0;31m:\u001B[0m positional argument follows keyword argument\n"
      ]
     },
     "metadata": {
      "application/vnd.databricks.v1+output": {
       "arguments": {},
       "data": "\u001B[0;36m  File \u001B[0;32m<command-2259084633578734>:2\u001B[0;36m\u001B[0m\n\u001B[0;31m    df.na.fill(value=0,[\"population\"]).show()\u001B[0m\n\u001B[0m                                     ^\u001B[0m\n\u001B[0;31mSyntaxError\u001B[0m\u001B[0;31m:\u001B[0m positional argument follows keyword argument\n",
       "errorSummary": "<span class='ansi-red-fg'>SyntaxError</span>: positional argument follows keyword argument (<command-2259084633578734>, line 2)",
       "errorTraceType": "ansi",
       "metadata": {},
       "type": "ipynbError"
      }
     },
     "output_type": "display_data"
    }
   ],
   "source": [
    "#Replace 0 for null on only population column \n",
    "df.na.fill(value=0,[\"population\"]).show()"
   ]
  },
  {
   "cell_type": "code",
   "execution_count": 0,
   "metadata": {
    "application/vnd.databricks.v1+cell": {
     "cellMetadata": {
      "byteLimit": 2048000,
      "rowLimit": 10000
     },
     "inputWidgets": {},
     "nuid": "fb75f63a-e399-47b9-ba1e-0a23a35838a1",
     "showTitle": false,
     "title": ""
    }
   },
   "outputs": [
    {
     "output_type": "stream",
     "name": "stdout",
     "output_type": "stream",
     "text": [
      "root\n |-- id: integer (nullable = true)\n |-- zipcode: integer (nullable = true)\n |-- type: string (nullable = true)\n |-- city: string (nullable = true)\n |-- state: string (nullable = true)\n |-- population: integer (nullable = true)\n\n"
     ]
    }
   ],
   "source": [
    "\n",
    "df.printSchema()"
   ]
  },
  {
   "cell_type": "code",
   "execution_count": 0,
   "metadata": {
    "application/vnd.databricks.v1+cell": {
     "cellMetadata": {
      "byteLimit": 2048000,
      "rowLimit": 10000
     },
     "inputWidgets": {},
     "nuid": "3eac8149-4ee8-40d3-8a67-ad7a97b8d8c8",
     "showTitle": false,
     "title": ""
    }
   },
   "outputs": [
    {
     "output_type": "stream",
     "name": "stdout",
     "output_type": "stream",
     "text": [
      "+---+-------+--------+-------------------+-----+----------+\n| id|zipcode|    type|               city|state|population|\n+---+-------+--------+-------------------+-----+----------+\n|  1|    704|STANDARD|                   |   PR|     30100|\n|  2|    704|        |PASEO COSTA DEL SUR|   PR|      null|\n|  3|    709|        |       BDA SAN LUIS|   PR|      3700|\n|  4|  76166|  UNIQUE|  CINGULAR WIRELESS|   TX|     84000|\n|  5|  76177|STANDARD|                   |   TX|      null|\n+---+-------+--------+-------------------+-----+----------+\n\n"
     ]
    }
   ],
   "source": [
    "#PySpark Replace Null/None Value with Empty String\n",
    "df.na.fill(\"\").show()"
   ]
  },
  {
   "cell_type": "code",
   "execution_count": 0,
   "metadata": {
    "application/vnd.databricks.v1+cell": {
     "cellMetadata": {
      "byteLimit": 2048000,
      "rowLimit": 10000
     },
     "inputWidgets": {},
     "nuid": "8dcccee0-d529-457f-aaff-9f2829d12ad6",
     "showTitle": false,
     "title": ""
    }
   },
   "outputs": [
    {
     "output_type": "stream",
     "name": "stdout",
     "output_type": "stream",
     "text": [
      "+---+-------+--------+-------------------+-----+----------+\n| id|zipcode|    type|               city|state|population|\n+---+-------+--------+-------------------+-----+----------+\n|  1|    704|STANDARD|             unkown|   PR|     30100|\n|  2|    704|    null|PASEO COSTA DEL SUR|   PR|      null|\n|  3|    709|    null|       BDA SAN LUIS|   PR|      3700|\n|  4|  76166|  UNIQUE|  CINGULAR WIRELESS|   TX|     84000|\n|  5|  76177|STANDARD|             unkown|   TX|      null|\n+---+-------+--------+-------------------+-----+----------+\n\n"
     ]
    }
   ],
   "source": [
    "#let’s replace NULLs on specific columns\n",
    "df.na.fill(\"unkown\",['city']).show()\n"
   ]
  },
  {
   "cell_type": "code",
   "execution_count": 0,
   "metadata": {
    "application/vnd.databricks.v1+cell": {
     "cellMetadata": {
      "byteLimit": 2048000,
      "rowLimit": 10000
     },
     "inputWidgets": {},
     "nuid": "e1697570-0be8-4c2a-b6ef-95091eafd68c",
     "showTitle": false,
     "title": ""
    }
   },
   "outputs": [
    {
     "output_type": "stream",
     "name": "stdout",
     "output_type": "stream",
     "text": [
      "+---+-------+--------+-------------------+-----+----------+\n| id|zipcode|    type|               city|state|population|\n+---+-------+--------+-------------------+-----+----------+\n|  1|    704|STANDARD|             unkown|   PR|     30100|\n|  2|    704|  NoType|PASEO COSTA DEL SUR|   PR|      null|\n|  3|    709|  NoType|       BDA SAN LUIS|   PR|      3700|\n|  4|  76166|  UNIQUE|  CINGULAR WIRELESS|   TX|     84000|\n|  5|  76177|STANDARD|             unkown|   TX|      null|\n+---+-------+--------+-------------------+-----+----------+\n\n"
     ]
    }
   ],
   "source": [
    "df.na.fill({\"city\":\"unkown\",\"type\":\"NoType\"}).show()"
   ]
  },
  {
   "cell_type": "code",
   "execution_count": 0,
   "metadata": {
    "application/vnd.databricks.v1+cell": {
     "cellMetadata": {
      "byteLimit": 2048000,
      "rowLimit": 10000
     },
     "inputWidgets": {},
     "nuid": "ac86531c-3c73-40f8-8e5c-0d1aca8a34fb",
     "showTitle": false,
     "title": ""
    }
   },
   "outputs": [
    {
     "output_type": "stream",
     "name": "stdout",
     "output_type": "stream",
     "text": [
      "+---+-------+--------+-------------------+-----+----------+\n| id|zipcode|    type|               city|state|population|\n+---+-------+--------+-------------------+-----+----------+\n|  1|    704|STANDARD|               null|   PR|     30100|\n|  2|    704|    null|PASEO COSTA DEL SUR|   PR|         0|\n|  3|    709|    null|       BDA SAN LUIS|   PR|      3700|\n|  4|  76166|  UNIQUE|  CINGULAR WIRELESS|   TX|     84000|\n|  5|  76177|STANDARD|               null|   TX|         0|\n+---+-------+--------+-------------------+-----+----------+\n\n+---+-------+--------+-------------------+-----+----------+\n| id|zipcode|    type|               city|state|population|\n+---+-------+--------+-------------------+-----+----------+\n|  1|    704|STANDARD|               null|   PR|     30100|\n|  2|    704|    null|PASEO COSTA DEL SUR|   PR|         0|\n|  3|    709|    null|       BDA SAN LUIS|   PR|      3700|\n|  4|  76166|  UNIQUE|  CINGULAR WIRELESS|   TX|     84000|\n|  5|  76177|STANDARD|               null|   TX|         0|\n+---+-------+--------+-------------------+-----+----------+\n\n+---+-------+--------+-------------------+-----+----------+\n| id|zipcode|    type|               city|state|population|\n+---+-------+--------+-------------------+-----+----------+\n|  1|    704|STANDARD|                   |   PR|     30100|\n|  2|    704|        |PASEO COSTA DEL SUR|   PR|      null|\n|  3|    709|        |       BDA SAN LUIS|   PR|      3700|\n|  4|  76166|  UNIQUE|  CINGULAR WIRELESS|   TX|     84000|\n|  5|  76177|STANDARD|                   |   TX|      null|\n+---+-------+--------+-------------------+-----+----------+\n\n+---+-------+--------+-------------------+-----+----------+\n| id|zipcode|    type|               city|state|population|\n+---+-------+--------+-------------------+-----+----------+\n|  1|    704|STANDARD|            unknown|   PR|     30100|\n|  2|    704|        |PASEO COSTA DEL SUR|   PR|      null|\n|  3|    709|        |       BDA SAN LUIS|   PR|      3700|\n|  4|  76166|  UNIQUE|  CINGULAR WIRELESS|   TX|     84000|\n|  5|  76177|STANDARD|            unknown|   TX|      null|\n+---+-------+--------+-------------------+-----+----------+\n\n+---+-------+--------+-------------------+-----+----------+\n| id|zipcode|    type|               city|state|population|\n+---+-------+--------+-------------------+-----+----------+\n|  1|    704|STANDARD|            unknown|   PR|     30100|\n|  2|    704|        |PASEO COSTA DEL SUR|   PR|      null|\n|  3|    709|        |       BDA SAN LUIS|   PR|      3700|\n|  4|  76166|  UNIQUE|  CINGULAR WIRELESS|   TX|     84000|\n|  5|  76177|STANDARD|            unknown|   TX|      null|\n+---+-------+--------+-------------------+-----+----------+\n\n"
     ]
    }
   ],
   "source": [
    "df.fillna(value=0).show()\n",
    "df.fillna(value=0,subset=[\"population\"]).show()\n",
    "\n",
    "df.fillna(value=\"\").show()\n",
    "df.fillna(\"unknown\",[\"city\"]).fillna(\"\",[\"type\"]).show()\n",
    "\n",
    "df.fillna({\"city\": \"unknown\", \"type\": \"\"}).show()"
   ]
  },
  {
   "cell_type": "code",
   "execution_count": 0,
   "metadata": {
    "application/vnd.databricks.v1+cell": {
     "cellMetadata": {
      "byteLimit": 2048000,
      "rowLimit": 10000
     },
     "inputWidgets": {},
     "nuid": "c54b561b-2c7c-4210-9c8f-977041c61ccd",
     "showTitle": false,
     "title": ""
    }
   },
   "outputs": [
    {
     "output_type": "stream",
     "name": "stdout",
     "output_type": "stream",
     "text": [
      "DataFrame[id: int, zipcode: int, type: string, city: string, state: string, population: int]\n"
     ]
    },
    {
     "output_type": "display_data",
     "data": {
      "text/html": [
       "<style scoped>\n",
       "  .table-result-container {\n",
       "    max-height: 300px;\n",
       "    overflow: auto;\n",
       "  }\n",
       "  table, th, td {\n",
       "    border: 1px solid black;\n",
       "    border-collapse: collapse;\n",
       "  }\n",
       "  th, td {\n",
       "    padding: 5px;\n",
       "  }\n",
       "  th {\n",
       "    text-align: left;\n",
       "  }\n",
       "</style><div class='table-result-container'><table class='table-result'><thead style='background-color: white'><tr><th>id</th><th>zipcode</th><th>type</th><th>city</th><th>state</th><th>population</th></tr></thead><tbody><tr><td>1</td><td>704</td><td>STANDARD</td><td>null</td><td>PR</td><td>30100</td></tr><tr><td>2</td><td>704</td><td>null</td><td>PASEO COSTA DEL SUR</td><td>PR</td><td>null</td></tr><tr><td>3</td><td>709</td><td>null</td><td>BDA SAN LUIS</td><td>PR</td><td>3700</td></tr><tr><td>4</td><td>76166</td><td>UNIQUE</td><td>CINGULAR WIRELESS</td><td>TX</td><td>84000</td></tr><tr><td>5</td><td>76177</td><td>STANDARD</td><td>null</td><td>TX</td><td>null</td></tr></tbody></table></div>"
      ]
     },
     "metadata": {
      "application/vnd.databricks.v1+output": {
       "addedWidgets": {},
       "aggData": [],
       "aggError": "",
       "aggOverflow": false,
       "aggSchema": [],
       "aggSeriesLimitReached": false,
       "aggType": "",
       "arguments": {},
       "columnCustomDisplayInfos": {},
       "data": [
        [
         1,
         704,
         "STANDARD",
         null,
         "PR",
         30100
        ],
        [
         2,
         704,
         null,
         "PASEO COSTA DEL SUR",
         "PR",
         null
        ],
        [
         3,
         709,
         null,
         "BDA SAN LUIS",
         "PR",
         3700
        ],
        [
         4,
         76166,
         "UNIQUE",
         "CINGULAR WIRELESS",
         "TX",
         84000
        ],
        [
         5,
         76177,
         "STANDARD",
         null,
         "TX",
         null
        ]
       ],
       "datasetInfos": [],
       "dbfsResultPath": null,
       "isJsonSchema": true,
       "metadata": {},
       "overflow": false,
       "plotOptions": {
        "customPlotOptions": {},
        "displayType": "table",
        "pivotAggregation": null,
        "pivotColumns": null,
        "xColumns": null,
        "yColumns": null
       },
       "removedWidgets": [],
       "schema": [
        {
         "metadata": "{}",
         "name": "id",
         "type": "\"integer\""
        },
        {
         "metadata": "{}",
         "name": "zipcode",
         "type": "\"integer\""
        },
        {
         "metadata": "{}",
         "name": "type",
         "type": "\"string\""
        },
        {
         "metadata": "{}",
         "name": "city",
         "type": "\"string\""
        },
        {
         "metadata": "{}",
         "name": "state",
         "type": "\"string\""
        },
        {
         "metadata": "{}",
         "name": "population",
         "type": "\"integer\""
        }
       ],
       "type": "table"
      }
     },
     "output_type": "display_data"
    }
   ],
   "source": [
    "print(df)\n",
    "df.display()"
   ]
  },
  {
   "cell_type": "code",
   "execution_count": 0,
   "metadata": {
    "application/vnd.databricks.v1+cell": {
     "cellMetadata": {
      "byteLimit": 2048000,
      "rowLimit": 10000
     },
     "inputWidgets": {},
     "nuid": "f8da96dc-2702-4eac-bbbb-58f2c0568cc3",
     "showTitle": false,
     "title": ""
    }
   },
   "outputs": [
    {
     "output_type": "stream",
     "name": "stdout",
     "output_type": "stream",
     "text": [
      "Out[62]: DataFrame[summary: string, id: string, zipcode: string, type: string, city: string, state: string, population: string]"
     ]
    }
   ],
   "source": [
    "df.describe()"
   ]
  },
  {
   "cell_type": "code",
   "execution_count": 0,
   "metadata": {
    "application/vnd.databricks.v1+cell": {
     "cellMetadata": {
      "byteLimit": 2048000,
      "rowLimit": 10000
     },
     "inputWidgets": {},
     "nuid": "41674650-78da-4dd3-afbf-d37b7a9190fd",
     "showTitle": false,
     "title": ""
    }
   },
   "outputs": [
    {
     "output_type": "stream",
     "name": "stdout",
     "output_type": "stream",
     "text": [
      "+-------+------+-------+\n|Product|Amount|Country|\n+-------+------+-------+\n| Banana|  1000|    USA|\n|Carrots|  1500|    USA|\n|  Beans|  1600|    USA|\n| Orange|  2000|    USA|\n| Orange|  2000|    USA|\n| Banana|   400|  China|\n|Carrots|  1200|  China|\n|  Beans|  1500|  China|\n| Orange|  4000|  China|\n| Banana|  2000| Canada|\n|Carrots|  2000| Canada|\n|  Beans|  2000| Mexico|\n+-------+------+-------+\n\nroot\n |-- Product: string (nullable = true)\n |-- Amount: long (nullable = true)\n |-- Country: string (nullable = true)\n\n"
     ]
    }
   ],
   "source": [
    "#PySpark Pivot and Unpivot DataFrame\n",
    "data = [(\"Banana\",1000,\"USA\"), (\"Carrots\",1500,\"USA\"), (\"Beans\",1600,\"USA\"), \\\n",
    "      (\"Orange\",2000,\"USA\"),(\"Orange\",2000,\"USA\"),(\"Banana\",400,\"China\"), \\\n",
    "      (\"Carrots\",1200,\"China\"),(\"Beans\",1500,\"China\"),(\"Orange\",4000,\"China\"), \\\n",
    "      (\"Banana\",2000,\"Canada\"),(\"Carrots\",2000,\"Canada\"),(\"Beans\",2000,\"Mexico\")]\n",
    "\n",
    "columns= [\"Product\",\"Amount\",\"Country\"]\n",
    "df = spark.createDataFrame(data,columns)\n",
    "df.show()\n",
    "df.printSchema()"
   ]
  },
  {
   "cell_type": "code",
   "execution_count": 0,
   "metadata": {
    "application/vnd.databricks.v1+cell": {
     "cellMetadata": {
      "byteLimit": 2048000,
      "rowLimit": 10000
     },
     "inputWidgets": {},
     "nuid": "4eb93ab4-dac5-42d4-b177-2553a49e7157",
     "showTitle": false,
     "title": ""
    }
   },
   "outputs": [
    {
     "output_type": "stream",
     "name": "stdout",
     "output_type": "stream",
     "text": [
      "+-------+------+-----+-------+------+\n|Country|Banana|Beans|Carrots|Orange|\n+-------+------+-----+-------+------+\n|  China|   400| 1500|   1200|  4000|\n|    USA|  1000| 1600|   1500|  4000|\n| Mexico|  null| 2000|   null|  null|\n| Canada|  2000| null|   2000|  null|\n+-------+------+-----+-------+------+\n\n"
     ]
    }
   ],
   "source": [
    "df.groupBy('Country').pivot('Product').sum('Amount').show()"
   ]
  }
 ],
 "metadata": {
  "application/vnd.databricks.v1+notebook": {
   "dashboards": [],
   "language": "python",
   "notebookMetadata": {
    "pythonIndentUnit": 4
   },
   "notebookName": "spark_8 (1)",
   "widgets": {}
  }
 },
 "nbformat": 4,
 "nbformat_minor": 0
}
