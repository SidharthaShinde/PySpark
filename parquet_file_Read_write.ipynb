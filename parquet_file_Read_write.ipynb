{
 "cells": [
  {
   "cell_type": "markdown",
   "metadata": {
    "application/vnd.databricks.v1+cell": {
     "cellMetadata": {},
     "inputWidgets": {},
     "nuid": "90b46335-4c8a-426a-aa1d-87bb645f9f56",
     "showTitle": false,
     "title": ""
    }
   },
   "source": [
    "# Pyspark Read Parquet file into DataFrame"
   ]
  },
  {
   "cell_type": "code",
   "execution_count": 0,
   "metadata": {
    "application/vnd.databricks.v1+cell": {
     "cellMetadata": {
      "byteLimit": 2048000,
      "rowLimit": 10000
     },
     "inputWidgets": {},
     "nuid": "fae59328-d36b-4808-ac7f-c03935fa5102",
     "showTitle": false,
     "title": ""
    }
   },
   "outputs": [
    {
     "output_type": "stream",
     "name": "stdout",
     "output_type": "stream",
     "text": [
      "root\n |-- price: long (nullable = true)\n |-- area: long (nullable = true)\n |-- bedrooms: long (nullable = true)\n |-- bathrooms: long (nullable = true)\n |-- stories: long (nullable = true)\n |-- mainroad: string (nullable = true)\n |-- guestroom: string (nullable = true)\n |-- basement: string (nullable = true)\n |-- hotwaterheating: string (nullable = true)\n |-- airconditioning: string (nullable = true)\n |-- parking: long (nullable = true)\n |-- prefarea: string (nullable = true)\n |-- furnishingstatus: string (nullable = true)\n\n+--------+----+--------+---------+-------+--------+---------+--------+---------------+---------------+-------+--------+----------------+\n|   price|area|bedrooms|bathrooms|stories|mainroad|guestroom|basement|hotwaterheating|airconditioning|parking|prefarea|furnishingstatus|\n+--------+----+--------+---------+-------+--------+---------+--------+---------------+---------------+-------+--------+----------------+\n|13300000|7420|       4|        2|      3|     yes|       no|      no|             no|            yes|      2|     yes|       furnished|\n|12250000|8960|       4|        4|      4|     yes|       no|      no|             no|            yes|      3|      no|       furnished|\n|12250000|9960|       3|        2|      2|     yes|       no|     yes|             no|             no|      2|     yes|  semi-furnished|\n|12215000|7500|       4|        2|      2|     yes|       no|     yes|             no|            yes|      3|     yes|       furnished|\n|11410000|7420|       4|        1|      2|     yes|      yes|     yes|             no|            yes|      2|      no|       furnished|\n+--------+----+--------+---------+-------+--------+---------+--------+---------------+---------------+-------+--------+----------------+\nonly showing top 5 rows\n\n"
     ]
    }
   ],
   "source": [
    "df_par = spark.read.parquet(\"dbfs:/FileStore/parquet/House_price.parquet\")\n",
    "df_par.printSchema()\n",
    "df_par.show(5)"
   ]
  },
  {
   "cell_type": "markdown",
   "metadata": {
    "application/vnd.databricks.v1+cell": {
     "cellMetadata": {},
     "inputWidgets": {},
     "nuid": "bb76d5b5-6081-471c-b0f9-398e7989b614",
     "showTitle": false,
     "title": ""
    }
   },
   "source": [
    "# Pyspark Write DataFrame to Parquet file format"
   ]
  },
  {
   "cell_type": "code",
   "execution_count": 0,
   "metadata": {
    "application/vnd.databricks.v1+cell": {
     "cellMetadata": {
      "byteLimit": 2048000,
      "rowLimit": 10000
     },
     "inputWidgets": {},
     "nuid": "3734288f-a373-4449-8f44-828826db0859",
     "showTitle": false,
     "title": ""
    }
   },
   "outputs": [],
   "source": [
    "df_par.write.parquet(\"dbfs:/FileStore/parquet/writeData\",mode=\"overwrite\")\n",
    "#df_par.write.mode(\"overwrite\").parquet(\"dbfs:/FileStore/parquet/writeData\")"
   ]
  },
  {
   "cell_type": "code",
   "execution_count": 0,
   "metadata": {
    "application/vnd.databricks.v1+cell": {
     "cellMetadata": {
      "byteLimit": 2048000,
      "rowLimit": 10000
     },
     "inputWidgets": {},
     "nuid": "8fcf1a60-db5a-44e6-bc37-f6a05b074b75",
     "showTitle": false,
     "title": ""
    }
   },
   "outputs": [
    {
     "output_type": "stream",
     "name": "stdout",
     "output_type": "stream",
     "text": [
      "+----------------+\n|furnishingstatus|\n+----------------+\n|  semi-furnished|\n|     unfurnished|\n|       furnished|\n+----------------+\n\n"
     ]
    }
   ],
   "source": [
    "df_par.select(\"furnishingstatus\").distinct().show()"
   ]
  },
  {
   "cell_type": "code",
   "execution_count": 0,
   "metadata": {
    "application/vnd.databricks.v1+cell": {
     "cellMetadata": {
      "byteLimit": 2048000,
      "rowLimit": 10000
     },
     "inputWidgets": {},
     "nuid": "bfa896f3-14b3-4caa-aefe-bea17bbd05a3",
     "showTitle": false,
     "title": ""
    }
   },
   "outputs": [],
   "source": [
    "#df_par.write.parquet(\"dbfs:/FileStore/parquet/writeData\",mode=\"append\",partitionBy=\"furnishingstatus\") # OR\n",
    "df_par.write.partitionBy(\"furnishingstatus\").mode(\"overwrite\").parquet(\"dbfs:/FileStore/parquet/writeData-1\")"
   ]
  },
  {
   "cell_type": "code",
   "execution_count": 0,
   "metadata": {
    "application/vnd.databricks.v1+cell": {
     "cellMetadata": {
      "byteLimit": 2048000,
      "rowLimit": 10000
     },
     "inputWidgets": {},
     "nuid": "27a68bac-7258-4d76-b4a1-89491c625d22",
     "showTitle": false,
     "title": ""
    }
   },
   "outputs": [],
   "source": [
    "df_par.write.parquet(\"dbfs:/FileStore/parquet/writeData2\",mode=\"append\",partitionBy=[\"furnishingstatus\",\"prefarea\"])"
   ]
  },
  {
   "cell_type": "markdown",
   "metadata": {
    "application/vnd.databricks.v1+cell": {
     "cellMetadata": {},
     "inputWidgets": {},
     "nuid": "350fd3e1-48c7-4ce1-94ce-e4d9327a6508",
     "showTitle": false,
     "title": ""
    }
   },
   "source": [
    "##Retrieving from a partitioned Parquet file"
   ]
  },
  {
   "cell_type": "code",
   "execution_count": 0,
   "metadata": {
    "application/vnd.databricks.v1+cell": {
     "cellMetadata": {
      "byteLimit": 2048000,
      "rowLimit": 10000
     },
     "inputWidgets": {},
     "nuid": "c58a5c4f-72f6-4c97-8b94-92e66009aeb3",
     "showTitle": false,
     "title": ""
    }
   },
   "outputs": [
    {
     "output_type": "stream",
     "name": "stdout",
     "output_type": "stream",
     "text": [
      "+--------+-----+--------+---------+-------+--------+---------+--------+---------------+---------------+-------+--------+\n|price   |area |bedrooms|bathrooms|stories|mainroad|guestroom|basement|hotwaterheating|airconditioning|parking|prefarea|\n+--------+-----+--------+---------+-------+--------+---------+--------+---------------+---------------+-------+--------+\n|13300000|7420 |4       |2        |3      |yes     |no       |no      |no             |yes            |2      |yes     |\n|12250000|8960 |4       |4        |4      |yes     |no       |no      |no             |yes            |3      |no      |\n|12215000|7500 |4       |2        |2      |yes     |no       |yes     |no             |yes            |3      |yes     |\n|11410000|7420 |4       |1        |2      |yes     |yes      |yes     |no             |yes            |2      |no      |\n|9870000 |8100 |4       |1        |2      |yes     |yes      |yes     |no             |yes            |2      |yes     |\n|9800000 |13200|3       |1        |2      |yes     |no       |yes     |no             |yes            |2      |yes     |\n|9240000 |3500 |4       |2        |2      |yes     |no       |no      |yes            |no             |2      |no      |\n|8960000 |8500 |3       |2        |4      |yes     |no       |no      |no             |yes            |2      |no      |\n|8890000 |4600 |3       |2        |2      |yes     |yes      |no      |no             |yes            |2      |no      |\n|8645000 |8050 |3       |1        |1      |yes     |yes      |yes     |no             |yes            |1      |no      |\n|8645000 |4560 |3       |2        |2      |yes     |yes      |yes     |no             |yes            |1      |no      |\n|8575000 |8800 |3       |2        |2      |yes     |no       |no      |no             |yes            |2      |no      |\n|8540000 |6540 |4       |2        |2      |yes     |yes      |yes     |no             |yes            |2      |yes     |\n|8295000 |4880 |4       |2        |2      |yes     |no       |no      |no             |yes            |1      |yes     |\n|8120000 |6840 |5       |1        |2      |yes     |yes      |yes     |no             |yes            |1      |no      |\n|8080940 |7000 |3       |2        |4      |yes     |no       |no      |no             |yes            |2      |no      |\n|8043000 |7482 |3       |2        |3      |yes     |no       |no      |yes            |no             |1      |yes     |\n|7980000 |9000 |4       |2        |4      |yes     |no       |no      |no             |yes            |2      |no      |\n|7875000 |6550 |3       |1        |2      |yes     |no       |yes     |no             |yes            |0      |yes     |\n|7840000 |6360 |3       |2        |4      |yes     |no       |no      |no             |yes            |0      |yes     |\n+--------+-----+--------+---------+-------+--------+---------+--------+---------------+---------------+-------+--------+\nonly showing top 20 rows\n\n"
     ]
    }
   ],
   "source": [
    "parDF2=spark.read.parquet(\"dbfs:/FileStore/parquet/writeData-1/furnishingstatus=furnished\")\n",
    "parDF2.show(truncate=False)"
   ]
  },
  {
   "cell_type": "markdown",
   "metadata": {
    "application/vnd.databricks.v1+cell": {
     "cellMetadata": {},
     "inputWidgets": {},
     "nuid": "7d4a581c-b73c-43cc-903a-2c1025a2615f",
     "showTitle": false,
     "title": ""
    }
   },
   "source": [
    "##Creating a table on Partitioned Parquet file"
   ]
  },
  {
   "cell_type": "code",
   "execution_count": 0,
   "metadata": {
    "application/vnd.databricks.v1+cell": {
     "cellMetadata": {
      "byteLimit": 2048000,
      "rowLimit": 10000
     },
     "inputWidgets": {},
     "nuid": "b7582f8d-0dac-4c4c-afc5-119ebf5d2a15",
     "showTitle": false,
     "title": ""
    }
   },
   "outputs": [
    {
     "output_type": "stream",
     "name": "stdout",
     "output_type": "stream",
     "text": [
      "+--------+-----+--------+---------+-------+--------+---------+--------+---------------+---------------+-------+--------+\n|   price| area|bedrooms|bathrooms|stories|mainroad|guestroom|basement|hotwaterheating|airconditioning|parking|prefarea|\n+--------+-----+--------+---------+-------+--------+---------+--------+---------------+---------------+-------+--------+\n|12250000| 9960|       3|        2|      2|     yes|       no|     yes|             no|             no|      2|     yes|\n|10850000| 7500|       3|        3|      1|     yes|       no|     yes|             no|            yes|      2|     yes|\n|10150000| 8580|       4|        3|      4|     yes|       no|      no|             no|            yes|      2|     yes|\n| 9681000| 6000|       4|        3|      2|     yes|      yes|     yes|            yes|             no|      2|      no|\n| 9310000| 6550|       4|        2|      2|     yes|       no|      no|             no|            yes|      1|     yes|\n| 9240000| 7800|       3|        2|      2|     yes|       no|      no|             no|             no|      0|     yes|\n| 9100000| 6000|       4|        1|      2|     yes|       no|     yes|             no|             no|      2|      no|\n| 8855000| 6420|       3|        2|      2|     yes|       no|      no|             no|            yes|      1|     yes|\n| 8750000| 4320|       3|        1|      2|     yes|       no|     yes|            yes|             no|      2|      no|\n| 8463000| 6000|       3|        2|      4|     yes|      yes|     yes|             no|            yes|      0|     yes|\n| 8400000| 8875|       3|        1|      1|     yes|       no|      no|             no|             no|      1|      no|\n| 8400000| 5500|       4|        2|      2|     yes|       no|     yes|             no|            yes|      1|     yes|\n| 8400000| 7000|       3|        1|      4|     yes|       no|      no|             no|            yes|      2|      no|\n| 7910000| 6000|       4|        2|      4|     yes|       no|      no|             no|            yes|      1|      no|\n| 7700000| 6000|       4|        2|      4|     yes|       no|      no|             no|             no|      2|      no|\n| 7560000| 6000|       3|        2|      3|     yes|       no|      no|             no|            yes|      0|      no|\n| 7420000| 7440|       3|        2|      1|     yes|      yes|     yes|             no|            yes|      0|     yes|\n| 7350000| 5150|       3|        2|      4|     yes|       no|      no|             no|            yes|      2|      no|\n| 7350000| 6000|       3|        2|      2|     yes|      yes|      no|             no|            yes|      1|      no|\n| 7343000|11440|       4|        1|      2|     yes|       no|     yes|             no|             no|      1|     yes|\n+--------+-----+--------+---------+-------+--------+---------+--------+---------------+---------------+-------+--------+\nonly showing top 20 rows\n\n"
     ]
    }
   ],
   "source": [
    "spark.sql(\"CREATE TEMPORARY VIEW home USING parquet OPTIONS (path \\\"dbfs:/FileStore/parquet/writeData-1/furnishingstatus=semi-furnished\\\")\")\n",
    "spark.sql(\"SELECT * FROM home\" ).show()"
   ]
  },
  {
   "cell_type": "code",
   "execution_count": 0,
   "metadata": {
    "application/vnd.databricks.v1+cell": {
     "cellMetadata": {},
     "inputWidgets": {},
     "nuid": "fddb7bae-6001-4d1e-a334-f916b317f109",
     "showTitle": false,
     "title": ""
    }
   },
   "outputs": [],
   "source": []
  }
 ],
 "metadata": {
  "application/vnd.databricks.v1+notebook": {
   "dashboards": [],
   "language": "python",
   "notebookMetadata": {
    "pythonIndentUnit": 4
   },
   "notebookName": "parquet_file_Read_write",
   "widgets": {}
  }
 },
 "nbformat": 4,
 "nbformat_minor": 0
}
