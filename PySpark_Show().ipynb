{
 "cells": [
  {
   "cell_type": "code",
   "execution_count": 0,
   "metadata": {
    "application/vnd.databricks.v1+cell": {
     "cellMetadata": {
      "byteLimit": 2048000,
      "rowLimit": 10000
     },
     "inputWidgets": {},
     "nuid": "2c72cba0-1a2b-4cee-8823-bce92922e682",
     "showTitle": false,
     "title": ""
    }
   },
   "outputs": [],
   "source": [
    "from pyspark.sql import SparkSession\n",
    "spark = SparkSession.builder.appName('Spark_Show()').getOrCreate()"
   ]
  },
  {
   "cell_type": "code",
   "execution_count": 0,
   "metadata": {
    "application/vnd.databricks.v1+cell": {
     "cellMetadata": {
      "byteLimit": 2048000,
      "rowLimit": 10000
     },
     "inputWidgets": {},
     "nuid": "4e6b0f57-a449-47a8-b348-b10ead5a3726",
     "showTitle": false,
     "title": ""
    }
   },
   "outputs": [
    {
     "output_type": "stream",
     "name": "stdout",
     "output_type": "stream",
     "text": [
      "Out[5]: '3.3.2'"
     ]
    }
   ],
   "source": [
    "spark.version\n"
   ]
  },
  {
   "cell_type": "markdown",
   "metadata": {
    "application/vnd.databricks.v1+cell": {
     "cellMetadata": {},
     "inputWidgets": {},
     "nuid": "bb41c550-18a6-4f9a-b56f-e305224ee886",
     "showTitle": false,
     "title": ""
    }
   },
   "source": [
    "# PySpark show() To Display Contents"
   ]
  },
  {
   "cell_type": "code",
   "execution_count": 0,
   "metadata": {
    "application/vnd.databricks.v1+cell": {
     "cellMetadata": {
      "byteLimit": 2048000,
      "rowLimit": 10000
     },
     "inputWidgets": {},
     "nuid": "764ce75d-2bfb-4830-857c-09038e73430f",
     "showTitle": false,
     "title": ""
    }
   },
   "outputs": [
    {
     "output_type": "stream",
     "name": "stdout",
     "output_type": "stream",
     "text": [
      "root\n |-- Seqno: string (nullable = true)\n |-- Quote: string (nullable = true)\n\n"
     ]
    }
   ],
   "source": [
    "data = [\n",
    "(\"1\", \"Embrace the change you desire to witness in the world\"),\n",
    "(\"2\", \"While many contemplate changing the world, few consider changing themselves\"),\n",
    "(\"3\", \"The essence of our lives lies in pursuing happiness\"),\n",
    "(\"4\", \"Stay chill.\")\n",
    "]\n",
    "columns = [\"Seqno\",\"Quote\"]\n",
    "\n",
    "df = spark.createDataFrame(data,columns)\n",
    "df.printSchema()"
   ]
  },
  {
   "cell_type": "markdown",
   "metadata": {
    "application/vnd.databricks.v1+cell": {
     "cellMetadata": {},
     "inputWidgets": {},
     "nuid": "498f55a6-b0c5-4296-95cf-c1e0a5fbf8cb",
     "showTitle": false,
     "title": ""
    }
   },
   "source": [
    "### show() Syntax"
   ]
  },
  {
   "cell_type": "code",
   "execution_count": 0,
   "metadata": {
    "application/vnd.databricks.v1+cell": {
     "cellMetadata": {},
     "inputWidgets": {},
     "nuid": "18ef1bca-f2c9-431c-84fe-d41adbcb7f3e",
     "showTitle": false,
     "title": ""
    }
   },
   "outputs": [],
   "source": [
    "show(self, n=20, truncate=True, vertical=False)"
   ]
  },
  {
   "cell_type": "markdown",
   "metadata": {
    "application/vnd.databricks.v1+cell": {
     "cellMetadata": {},
     "inputWidgets": {},
     "nuid": "3a874962-3729-4f52-bb86-4340a4cdd33b",
     "showTitle": false,
     "title": ""
    }
   },
   "source": [
    "### 20 charactes from column value "
   ]
  },
  {
   "cell_type": "code",
   "execution_count": 0,
   "metadata": {
    "application/vnd.databricks.v1+cell": {
     "cellMetadata": {
      "byteLimit": 2048000,
      "rowLimit": 10000
     },
     "inputWidgets": {},
     "nuid": "15980aa2-fe9b-4924-944f-ce3a7895b3ca",
     "showTitle": false,
     "title": ""
    }
   },
   "outputs": [
    {
     "output_type": "stream",
     "name": "stdout",
     "output_type": "stream",
     "text": [
      "+-----+--------------------+\n|Seqno|               Quote|\n+-----+--------------------+\n|    1|Embrace the chang...|\n|    2|While many contem...|\n|    3|The essence of ou...|\n|    4|         Stay chill.|\n+-----+--------------------+\n\n"
     ]
    }
   ],
   "source": [
    "df.show()"
   ]
  },
  {
   "cell_type": "markdown",
   "metadata": {
    "application/vnd.databricks.v1+cell": {
     "cellMetadata": {},
     "inputWidgets": {},
     "nuid": "54b95481-918b-473e-ba6d-e11a0714a42a",
     "showTitle": false,
     "title": ""
    }
   },
   "source": [
    "###Display full column contents"
   ]
  },
  {
   "cell_type": "code",
   "execution_count": 0,
   "metadata": {
    "application/vnd.databricks.v1+cell": {
     "cellMetadata": {
      "byteLimit": 2048000,
      "rowLimit": 10000
     },
     "inputWidgets": {},
     "nuid": "6de1ea30-e71a-4943-ab1f-48844dc04eb6",
     "showTitle": false,
     "title": ""
    }
   },
   "outputs": [
    {
     "output_type": "stream",
     "name": "stdout",
     "output_type": "stream",
     "text": [
      "+-----+---------------------------------------------------------------------------+\n|Seqno|Quote                                                                      |\n+-----+---------------------------------------------------------------------------+\n|1    |Embrace the change you desire to witness in the world                      |\n|2    |While many contemplate changing the world, few consider changing themselves|\n|3    |The essence of our lives lies in pursuing happiness                        |\n|4    |Stay chill.                                                                |\n+-----+---------------------------------------------------------------------------+\n\n"
     ]
    }
   ],
   "source": [
    "df.show(truncate=False)"
   ]
  },
  {
   "cell_type": "markdown",
   "metadata": {
    "application/vnd.databricks.v1+cell": {
     "cellMetadata": {},
     "inputWidgets": {},
     "nuid": "38c67e83-0908-4a45-88c4-b7cdee830d68",
     "showTitle": false,
     "title": ""
    }
   },
   "source": [
    "### Display 2 rows and full column contents"
   ]
  },
  {
   "cell_type": "code",
   "execution_count": 0,
   "metadata": {
    "application/vnd.databricks.v1+cell": {
     "cellMetadata": {
      "byteLimit": 2048000,
      "rowLimit": 10000
     },
     "inputWidgets": {},
     "nuid": "e8861b4a-5f24-4d64-be6e-0e17fc6b3594",
     "showTitle": false,
     "title": ""
    }
   },
   "outputs": [
    {
     "output_type": "stream",
     "name": "stdout",
     "output_type": "stream",
     "text": [
      "+-----+---------------------------------------------------------------------------+\n|Seqno|Quote                                                                      |\n+-----+---------------------------------------------------------------------------+\n|1    |Embrace the change you desire to witness in the world                      |\n|2    |While many contemplate changing the world, few consider changing themselves|\n+-----+---------------------------------------------------------------------------+\nonly showing top 2 rows\n\n"
     ]
    }
   ],
   "source": [
    "df.show(2,truncate=False) "
   ]
  },
  {
   "cell_type": "markdown",
   "metadata": {
    "application/vnd.databricks.v1+cell": {
     "cellMetadata": {},
     "inputWidgets": {},
     "nuid": "c316a85f-b07c-4e34-b2e1-949ec9d4c5ac",
     "showTitle": false,
     "title": ""
    }
   },
   "source": [
    "### Display 2 rows & column values 25 characters"
   ]
  },
  {
   "cell_type": "code",
   "execution_count": 0,
   "metadata": {
    "application/vnd.databricks.v1+cell": {
     "cellMetadata": {
      "byteLimit": 2048000,
      "rowLimit": 10000
     },
     "inputWidgets": {},
     "nuid": "c9131862-1d6e-4122-a253-73abc27ece58",
     "showTitle": false,
     "title": ""
    }
   },
   "outputs": [
    {
     "output_type": "stream",
     "name": "stdout",
     "output_type": "stream",
     "text": [
      "+-----+-------------------------+\n|Seqno|                    Quote|\n+-----+-------------------------+\n|    1|Embrace the change you...|\n|    2|While many contemplate...|\n+-----+-------------------------+\nonly showing top 2 rows\n\n"
     ]
    }
   ],
   "source": [
    "df.show(2,truncate=25) "
   ]
  },
  {
   "cell_type": "markdown",
   "metadata": {
    "application/vnd.databricks.v1+cell": {
     "cellMetadata": {},
     "inputWidgets": {},
     "nuid": "6f8a16bc-b12a-4ff2-9363-b4b4971347ba",
     "showTitle": false,
     "title": ""
    }
   },
   "source": [
    "### Display DataFrame rows & columns vertically"
   ]
  },
  {
   "cell_type": "code",
   "execution_count": 0,
   "metadata": {
    "application/vnd.databricks.v1+cell": {
     "cellMetadata": {
      "byteLimit": 2048000,
      "rowLimit": 10000
     },
     "inputWidgets": {},
     "nuid": "b3082d39-7233-4aa3-abc8-e7470a758835",
     "showTitle": false,
     "title": ""
    }
   },
   "outputs": [
    {
     "output_type": "stream",
     "name": "stdout",
     "output_type": "stream",
     "text": [
      "-RECORD 0--------------------------\n Seqno | 1                         \n Quote | Embrace the change you... \n-RECORD 1--------------------------\n Seqno | 2                         \n Quote | While many contemplate... \n-RECORD 2--------------------------\n Seqno | 3                         \n Quote | The essence of our liv... \nonly showing top 3 rows\n\n"
     ]
    }
   ],
   "source": [
    "df.show(n=3,truncate=25,vertical=True)"
   ]
  }
 ],
 "metadata": {
  "application/vnd.databricks.v1+notebook": {
   "dashboards": [],
   "language": "python",
   "notebookMetadata": {
    "pythonIndentUnit": 4
   },
   "notebookName": "PySpark_Show()",
   "widgets": {}
  }
 },
 "nbformat": 4,
 "nbformat_minor": 0
}
