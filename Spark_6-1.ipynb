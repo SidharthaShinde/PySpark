{
 "cells": [
  {
   "cell_type": "code",
   "execution_count": 0,
   "metadata": {
    "application/vnd.databricks.v1+cell": {
     "cellMetadata": {
      "byteLimit": 2048000,
      "rowLimit": 10000
     },
     "inputWidgets": {},
     "nuid": "1b855055-466d-4d1a-8018-c084590b5feb",
     "showTitle": true,
     "title": "Sort DataFrame"
    }
   },
   "outputs": [
    {
     "output_type": "stream",
     "name": "stdout",
     "output_type": "stream",
     "text": [
      "+-----------+----------+---------+--------+------------+---------+--------+------+--------------+----------+-------------+\n|EMPLOYEE_ID|FIRST_NAME|LAST_NAME|   EMAIL|PHONE_NUMBER|HIRE_DATE|  JOB_ID|SALARY|COMMISSION_PCT|MANAGER_ID|DEPARTMENT_ID|\n+-----------+----------+---------+--------+------------+---------+--------+------+--------------+----------+-------------+\n|        198|    Donald| OConnell|DOCONNEL|650.507.9833|21-JUN-07|SH_CLERK|  2600|            - |       124|           50|\n|        199|   Douglas|    Grant|  DGRANT|650.507.9844|13-JAN-08|SH_CLERK|  2600|            - |       124|           50|\n|        200|  Jennifer|   Whalen| JWHALEN|515.123.4444|17-SEP-03| AD_ASST|  4400|            - |       101|           10|\n|        201|   Michael|Hartstein|MHARTSTE|515.123.5555|17-FEB-04|  MK_MAN| 13000|            - |       100|           20|\n|        202|       Pat|      Fay|    PFAY|603.123.6666|17-AUG-05|  MK_REP|  6000|            - |       201|           20|\n+-----------+----------+---------+--------+------------+---------+--------+------+--------------+----------+-------------+\nonly showing top 5 rows\n\n"
     ]
    }
   ],
   "source": [
    "df = spark.read.csv(\"dbfs:/FileStore/employees.csv\",header=True,inferSchema=True)\n",
    "df.show(5)"
   ]
  },
  {
   "cell_type": "code",
   "execution_count": 0,
   "metadata": {
    "application/vnd.databricks.v1+cell": {
     "cellMetadata": {
      "byteLimit": 2048000,
      "rowLimit": 10000
     },
     "inputWidgets": {},
     "nuid": "c3221dd0-6886-4e50-b264-ae95d2ebfd9b",
     "showTitle": false,
     "title": ""
    }
   },
   "outputs": [
    {
     "output_type": "stream",
     "name": "stdout",
     "output_type": "stream",
     "text": [
      "Out[8]: 50"
     ]
    }
   ],
   "source": [
    "df.select('EMPLOYEE_ID').count()"
   ]
  },
  {
   "cell_type": "code",
   "execution_count": 0,
   "metadata": {
    "application/vnd.databricks.v1+cell": {
     "cellMetadata": {
      "byteLimit": 2048000,
      "rowLimit": 10000
     },
     "inputWidgets": {},
     "nuid": "875906f4-9bd6-4070-9095-29c247b88545",
     "showTitle": false,
     "title": ""
    }
   },
   "outputs": [
    {
     "output_type": "stream",
     "name": "stdout",
     "output_type": "stream",
     "text": [
      "+-----------+-----------+----------+--------+------------+---------+----------+------+--------------+----------+-------------+\n|EMPLOYEE_ID| FIRST_NAME| LAST_NAME|   EMAIL|PHONE_NUMBER|HIRE_DATE|    JOB_ID|SALARY|COMMISSION_PCT|MANAGER_ID|DEPARTMENT_ID|\n+-----------+-----------+----------+--------+------------+---------+----------+------+--------------+----------+-------------+\n|        100|     Steven|      King|   SKING|515.123.4567|17-JUN-03|   AD_PRES| 24000|            - |        - |           90|\n|        101|      Neena|   Kochhar|NKOCHHAR|515.123.4568|21-SEP-05|     AD_VP| 17000|            - |       100|           90|\n|        102|        Lex|   De Haan| LDEHAAN|515.123.4569|13-JAN-01|     AD_VP| 17000|            - |       100|           90|\n|        103|  Alexander|    Hunold| AHUNOLD|590.423.4567|03-JAN-06|   IT_PROG|  9000|            - |       102|           60|\n|        104|      Bruce|     Ernst|  BERNST|590.423.4568|21-MAY-07|   IT_PROG|  6000|            - |       103|           60|\n|        105|      David|    Austin| DAUSTIN|590.423.4569|25-JUN-05|   IT_PROG|  4800|            - |       103|           60|\n|        106|      Valli| Pataballa|VPATABAL|590.423.4560|05-FEB-06|   IT_PROG|  4800|            - |       103|           60|\n|        107|      Diana|   Lorentz|DLORENTZ|590.423.5567|07-FEB-07|   IT_PROG|  4200|            - |       103|           60|\n|        108|      Nancy| Greenberg|NGREENBE|515.124.4569|17-AUG-02|    FI_MGR| 12008|            - |       101|          100|\n|        109|     Daniel|    Faviet| DFAVIET|515.124.4169|16-AUG-02|FI_ACCOUNT|  9000|            - |       108|          100|\n|        110|       John|      Chen|   JCHEN|515.124.4269|28-SEP-05|FI_ACCOUNT|  8200|            - |       108|          100|\n|        111|     Ismael|   Sciarra|ISCIARRA|515.124.4369|30-SEP-05|FI_ACCOUNT|  7700|            - |       108|          100|\n|        112|Jose Manuel|     Urman| JMURMAN|515.124.4469|07-MAR-06|FI_ACCOUNT|  7800|            - |       108|          100|\n|        113|       Luis|      Popp|   LPOPP|515.124.4567|07-DEC-07|FI_ACCOUNT|  6900|            - |       108|          100|\n|        114|        Den|  Raphaely|DRAPHEAL|515.127.4561|07-DEC-02|    PU_MAN| 11000|            - |       100|           30|\n|        115|  Alexander|      Khoo|   AKHOO|515.127.4562|18-MAY-03|  PU_CLERK|  3100|            - |       114|           30|\n|        116|     Shelli|     Baida|  SBAIDA|515.127.4563|24-DEC-05|  PU_CLERK|  2900|            - |       114|           30|\n|        117|      Sigal|    Tobias| STOBIAS|515.127.4564|24-JUL-05|  PU_CLERK|  2800|            - |       114|           30|\n|        118|        Guy|    Himuro| GHIMURO|515.127.4565|15-NOV-06|  PU_CLERK|  2600|            - |       114|           30|\n|        119|      Karen|Colmenares|KCOLMENA|515.127.4566|10-AUG-07|  PU_CLERK|  2500|            - |       114|           30|\n+-----------+-----------+----------+--------+------------+---------+----------+------+--------------+----------+-------------+\nonly showing top 20 rows\n\n"
     ]
    }
   ],
   "source": [
    "df.sort(df.EMPLOYEE_ID).show()"
   ]
  },
  {
   "cell_type": "code",
   "execution_count": 0,
   "metadata": {
    "application/vnd.databricks.v1+cell": {
     "cellMetadata": {
      "byteLimit": 2048000,
      "rowLimit": 10000
     },
     "inputWidgets": {},
     "nuid": "417879da-3518-4e85-a856-a9d47ce08d1a",
     "showTitle": false,
     "title": ""
    }
   },
   "outputs": [
    {
     "output_type": "stream",
     "name": "stdout",
     "output_type": "stream",
     "text": [
      "+-----------+----------+----------+--------+------------+---------+----------+------+--------------+----------+-------------+\n|EMPLOYEE_ID|FIRST_NAME| LAST_NAME|   EMAIL|PHONE_NUMBER|HIRE_DATE|    JOB_ID|SALARY|COMMISSION_PCT|MANAGER_ID|DEPARTMENT_ID|\n+-----------+----------+----------+--------+------------+---------+----------+------+--------------+----------+-------------+\n|        206|   William|     Gietz|  WGIETZ|515.123.8181|07-JUN-02|AC_ACCOUNT|  8300|            - |       205|          110|\n|        205|   Shelley|   Higgins|SHIGGINS|515.123.8080|07-JUN-02|    AC_MGR| 12008|            - |       101|          110|\n|        204|   Hermann|      Baer|   HBAER|515.123.8888|07-JUN-02|    PR_REP| 10000|            - |       101|           70|\n|        203|     Susan|    Mavris| SMAVRIS|515.123.7777|07-JUN-02|    HR_REP|  6500|            - |       101|           40|\n|        202|       Pat|       Fay|    PFAY|603.123.6666|17-AUG-05|    MK_REP|  6000|            - |       201|           20|\n|        201|   Michael| Hartstein|MHARTSTE|515.123.5555|17-FEB-04|    MK_MAN| 13000|            - |       100|           20|\n|        200|  Jennifer|    Whalen| JWHALEN|515.123.4444|17-SEP-03|   AD_ASST|  4400|            - |       101|           10|\n|        199|   Douglas|     Grant|  DGRANT|650.507.9844|13-JAN-08|  SH_CLERK|  2600|            - |       124|           50|\n|        198|    Donald|  OConnell|DOCONNEL|650.507.9833|21-JUN-07|  SH_CLERK|  2600|            - |       124|           50|\n|        140|    Joshua|     Patel|  JPATEL|650.121.1834|06-APR-06|  ST_CLERK|  2500|            - |       123|           50|\n|        139|      John|       Seo|    JSEO|650.121.2019|12-FEB-06|  ST_CLERK|  2700|            - |       123|           50|\n|        138|   Stephen|    Stiles| SSTILES|650.121.2034|26-OCT-05|  ST_CLERK|  3200|            - |       123|           50|\n|        137|    Renske|    Ladwig| RLADWIG|650.121.1234|14-JUL-03|  ST_CLERK|  3600|            - |       123|           50|\n|        136|     Hazel|Philtanker|HPHILTAN|650.127.1634|06-FEB-08|  ST_CLERK|  2200|            - |       122|           50|\n|        135|        Ki|       Gee|    KGEE|650.127.1734|12-DEC-07|  ST_CLERK|  2400|            - |       122|           50|\n|        134|   Michael|    Rogers| MROGERS|650.127.1834|26-AUG-06|  ST_CLERK|  2900|            - |       122|           50|\n|        133|     Jason|    Mallin| JMALLIN|650.127.1934|14-JUN-04|  ST_CLERK|  3300|            - |       122|           50|\n|        132|        TJ|     Olson| TJOLSON|650.124.8234|10-APR-07|  ST_CLERK|  2100|            - |       121|           50|\n|        131|     James|    Marlow| JAMRLOW|650.124.7234|16-FEB-05|  ST_CLERK|  2500|            - |       121|           50|\n|        130|     Mozhe|  Atkinson|MATKINSO|650.124.6234|30-OCT-05|  ST_CLERK|  2800|            - |       121|           50|\n+-----------+----------+----------+--------+------------+---------+----------+------+--------------+----------+-------------+\nonly showing top 20 rows\n\n"
     ]
    }
   ],
   "source": [
    "df.sort(df.EMPLOYEE_ID.desc()).show()"
   ]
  },
  {
   "cell_type": "code",
   "execution_count": 0,
   "metadata": {
    "application/vnd.databricks.v1+cell": {
     "cellMetadata": {
      "byteLimit": 2048000,
      "rowLimit": 10000
     },
     "inputWidgets": {},
     "nuid": "3e4a2798-7009-4a86-9d5d-67029b1f1e2f",
     "showTitle": false,
     "title": ""
    }
   },
   "outputs": [
    {
     "output_type": "stream",
     "name": "stdout",
     "output_type": "stream",
     "text": [
      "+-----------+----------+---------+--------+------------+---------+-------+------+--------------+----------+-------------+\n|EMPLOYEE_ID|FIRST_NAME|LAST_NAME|   EMAIL|PHONE_NUMBER|HIRE_DATE| JOB_ID|SALARY|COMMISSION_PCT|MANAGER_ID|DEPARTMENT_ID|\n+-----------+----------+---------+--------+------------+---------+-------+------+--------------+----------+-------------+\n|        100|    Steven|     King|   SKING|515.123.4567|17-JUN-03|AD_PRES| 24000|            - |        - |           90|\n|        101|     Neena|  Kochhar|NKOCHHAR|515.123.4568|21-SEP-05|  AD_VP| 17000|            - |       100|           90|\n|        102|       Lex|  De Haan| LDEHAAN|515.123.4569|13-JAN-01|  AD_VP| 17000|            - |       100|           90|\n|        103| Alexander|   Hunold| AHUNOLD|590.423.4567|03-JAN-06|IT_PROG|  9000|            - |       102|           60|\n|        104|     Bruce|    Ernst|  BERNST|590.423.4568|21-MAY-07|IT_PROG|  6000|            - |       103|           60|\n+-----------+----------+---------+--------+------------+---------+-------+------+--------------+----------+-------------+\nonly showing top 5 rows\n\n+-----------+----------+---------+--------+------------+---------+----------+------+--------------+----------+-------------+\n|EMPLOYEE_ID|FIRST_NAME|LAST_NAME|   EMAIL|PHONE_NUMBER|HIRE_DATE|    JOB_ID|SALARY|COMMISSION_PCT|MANAGER_ID|DEPARTMENT_ID|\n+-----------+----------+---------+--------+------------+---------+----------+------+--------------+----------+-------------+\n|        206|   William|    Gietz|  WGIETZ|515.123.8181|07-JUN-02|AC_ACCOUNT|  8300|            - |       205|          110|\n|        205|   Shelley|  Higgins|SHIGGINS|515.123.8080|07-JUN-02|    AC_MGR| 12008|            - |       101|          110|\n|        204|   Hermann|     Baer|   HBAER|515.123.8888|07-JUN-02|    PR_REP| 10000|            - |       101|           70|\n|        203|     Susan|   Mavris| SMAVRIS|515.123.7777|07-JUN-02|    HR_REP|  6500|            - |       101|           40|\n|        202|       Pat|      Fay|    PFAY|603.123.6666|17-AUG-05|    MK_REP|  6000|            - |       201|           20|\n+-----------+----------+---------+--------+------------+---------+----------+------+--------------+----------+-------------+\nonly showing top 5 rows\n\n"
     ]
    }
   ],
   "source": [
    "df.orderBy(df.EMPLOYEE_ID).show(5)\n",
    "df.orderBy(df.EMPLOYEE_ID.desc()).show(5)"
   ]
  },
  {
   "cell_type": "code",
   "execution_count": 0,
   "metadata": {
    "application/vnd.databricks.v1+cell": {
     "cellMetadata": {
      "byteLimit": 2048000,
      "rowLimit": 10000
     },
     "inputWidgets": {},
     "nuid": "54ecfa2b-5b2b-47ea-bffd-491e430daff3",
     "showTitle": false,
     "title": ""
    }
   },
   "outputs": [
    {
     "output_type": "stream",
     "name": "stdout",
     "output_type": "stream",
     "text": [
      "+-----------+----------+---------+--------+------------+---------+----------+------+--------------+----------+-------------+\n|EMPLOYEE_ID|FIRST_NAME|LAST_NAME|   EMAIL|PHONE_NUMBER|HIRE_DATE|    JOB_ID|SALARY|COMMISSION_PCT|MANAGER_ID|DEPARTMENT_ID|\n+-----------+----------+---------+--------+------------+---------+----------+------+--------------+----------+-------------+\n|        206|   William|    Gietz|  WGIETZ|515.123.8181|07-JUN-02|AC_ACCOUNT|  8300|            - |       205|          110|\n|        205|   Shelley|  Higgins|SHIGGINS|515.123.8080|07-JUN-02|    AC_MGR| 12008|            - |       101|          110|\n|        204|   Hermann|     Baer|   HBAER|515.123.8888|07-JUN-02|    PR_REP| 10000|            - |       101|           70|\n|        203|     Susan|   Mavris| SMAVRIS|515.123.7777|07-JUN-02|    HR_REP|  6500|            - |       101|           40|\n|        202|       Pat|      Fay|    PFAY|603.123.6666|17-AUG-05|    MK_REP|  6000|            - |       201|           20|\n+-----------+----------+---------+--------+------------+---------+----------+------+--------------+----------+-------------+\nonly showing top 5 rows\n\n"
     ]
    }
   ],
   "source": [
    "df.orderBy(df.EMPLOYEE_ID.desc(),df.SALARY).show(5)"
   ]
  },
  {
   "cell_type": "code",
   "execution_count": 0,
   "metadata": {
    "application/vnd.databricks.v1+cell": {
     "cellMetadata": {
      "byteLimit": 2048000,
      "rowLimit": 10000
     },
     "inputWidgets": {},
     "nuid": "9caf862d-85d7-4a6e-a348-163ba336603c",
     "showTitle": false,
     "title": ""
    }
   },
   "outputs": [
    {
     "output_type": "stream",
     "name": "stdout",
     "output_type": "stream",
     "text": [
      "+-----------+----------+---------+--------+------------+---------+-------+------+--------------+----------+-------------+\n|EMPLOYEE_ID|FIRST_NAME|LAST_NAME|   EMAIL|PHONE_NUMBER|HIRE_DATE| JOB_ID|SALARY|COMMISSION_PCT|MANAGER_ID|DEPARTMENT_ID|\n+-----------+----------+---------+--------+------------+---------+-------+------+--------------+----------+-------------+\n|        100|    Steven|     King|   SKING|515.123.4567|17-JUN-03|AD_PRES| 24000|            - |        - |           90|\n|        101|     Neena|  Kochhar|NKOCHHAR|515.123.4568|21-SEP-05|  AD_VP| 17000|            - |       100|           90|\n|        102|       Lex|  De Haan| LDEHAAN|515.123.4569|13-JAN-01|  AD_VP| 17000|            - |       100|           90|\n|        103| Alexander|   Hunold| AHUNOLD|590.423.4567|03-JAN-06|IT_PROG|  9000|            - |       102|           60|\n|        104|     Bruce|    Ernst|  BERNST|590.423.4568|21-MAY-07|IT_PROG|  6000|            - |       103|           60|\n+-----------+----------+---------+--------+------------+---------+-------+------+--------------+----------+-------------+\nonly showing top 5 rows\n\n"
     ]
    }
   ],
   "source": [
    "from pyspark.sql.functions import col\n",
    "df.orderBy(col(\"EMPLOYEE_ID\")).show(5)"
   ]
  },
  {
   "cell_type": "code",
   "execution_count": 0,
   "metadata": {
    "application/vnd.databricks.v1+cell": {
     "cellMetadata": {
      "byteLimit": 2048000,
      "rowLimit": 10000
     },
     "inputWidgets": {},
     "nuid": "746eb1e6-ba95-440d-b434-58832f51f511",
     "showTitle": false,
     "title": ""
    }
   },
   "outputs": [
    {
     "output_type": "stream",
     "name": "stdout",
     "output_type": "stream",
     "text": [
      "+-----------+----------+---------+--------+------------+---------+-------+------+--------------+----------+-------------+\n|EMPLOYEE_ID|FIRST_NAME|LAST_NAME|   EMAIL|PHONE_NUMBER|HIRE_DATE| JOB_ID|SALARY|COMMISSION_PCT|MANAGER_ID|DEPARTMENT_ID|\n+-----------+----------+---------+--------+------------+---------+-------+------+--------------+----------+-------------+\n|        100|    Steven|     King|   SKING|515.123.4567|17-JUN-03|AD_PRES| 24000|            - |        - |           90|\n|        101|     Neena|  Kochhar|NKOCHHAR|515.123.4568|21-SEP-05|  AD_VP| 17000|            - |       100|           90|\n|        102|       Lex|  De Haan| LDEHAAN|515.123.4569|13-JAN-01|  AD_VP| 17000|            - |       100|           90|\n|        103| Alexander|   Hunold| AHUNOLD|590.423.4567|03-JAN-06|IT_PROG|  9000|            - |       102|           60|\n+-----------+----------+---------+--------+------------+---------+-------+------+--------------+----------+-------------+\nonly showing top 4 rows\n\n"
     ]
    }
   ],
   "source": [
    "df.orderBy(col(\"EMPLOYEE_ID\").asc(),col(\"SALARY\").desc()).show(4)"
   ]
  },
  {
   "cell_type": "code",
   "execution_count": 0,
   "metadata": {
    "application/vnd.databricks.v1+cell": {
     "cellMetadata": {
      "byteLimit": 2048000,
      "rowLimit": 10000
     },
     "inputWidgets": {},
     "nuid": "26c96ac5-f240-4131-89f6-bc205186cef5",
     "showTitle": true,
     "title": "Duplicate Records"
    }
   },
   "outputs": [
    {
     "output_type": "stream",
     "name": "stdout",
     "output_type": "stream",
     "text": [
      "+---+-----+------+\n| id| name|salary|\n+---+-----+------+\n|  1|user1|  2000|\n|  2|user2|  3000|\n|  1|user1|  3000|\n|  3|user3|  6000|\n|  2|user5|  9000|\n|  2|user2|  3000|\n+---+-----+------+\n\n"
     ]
    }
   ],
   "source": [
    "from pyspark.sql.types import StructType,StructField,StringType,IntegerType\n",
    "data = [(1,'user1',2000),(2,'user2',3000),(1,'user1',3000),(3,'user3',6000),(2,'user5',9000),(2,'user2',3000)]\n",
    "schema1 = StructType([\n",
    "    StructField(\"id\",IntegerType(),True),\n",
    "    StructField(\"name\",StringType(),True),\n",
    "    StructField(\"salary\",IntegerType(),True)\n",
    "])\n",
    "df2 = spark.createDataFrame(data,schema=schema1)\n",
    "df2.show()"
   ]
  },
  {
   "cell_type": "code",
   "execution_count": 0,
   "metadata": {
    "application/vnd.databricks.v1+cell": {
     "cellMetadata": {
      "byteLimit": 2048000,
      "rowLimit": 10000
     },
     "inputWidgets": {},
     "nuid": "3d9bd5d0-a7f8-43b6-b95a-87cbc5339f26",
     "showTitle": false,
     "title": ""
    }
   },
   "outputs": [
    {
     "output_type": "stream",
     "name": "stdout",
     "output_type": "stream",
     "text": [
      "+---+-----+------+\n| id| name|salary|\n+---+-----+------+\n|  1|user1|  2000|\n|  2|user2|  3000|\n|  1|user1|  3000|\n|  3|user3|  6000|\n|  2|user5|  9000|\n+---+-----+------+\n\n"
     ]
    }
   ],
   "source": [
    "df3 = df2.distinct()\n",
    "df3.show()"
   ]
  },
  {
   "cell_type": "code",
   "execution_count": 0,
   "metadata": {
    "application/vnd.databricks.v1+cell": {
     "cellMetadata": {
      "byteLimit": 2048000,
      "rowLimit": 10000
     },
     "inputWidgets": {},
     "nuid": "ed0a1944-a782-42bd-a753-df0a4d3d7584",
     "showTitle": false,
     "title": ""
    }
   },
   "outputs": [
    {
     "output_type": "stream",
     "name": "stdout",
     "output_type": "stream",
     "text": [
      "+---+-----+------+\n| id| name|salary|\n+---+-----+------+\n|  1|user1|  2000|\n|  2|user2|  3000|\n|  1|user1|  3000|\n|  3|user3|  6000|\n|  2|user5|  9000|\n+---+-----+------+\n\n"
     ]
    }
   ],
   "source": [
    "df2.dropDuplicates().show()"
   ]
  },
  {
   "cell_type": "code",
   "execution_count": 0,
   "metadata": {
    "application/vnd.databricks.v1+cell": {
     "cellMetadata": {
      "byteLimit": 2048000,
      "rowLimit": 10000
     },
     "inputWidgets": {},
     "nuid": "c3e5f288-4ce3-48f3-8cd0-69356da23365",
     "showTitle": false,
     "title": ""
    }
   },
   "outputs": [
    {
     "output_type": "stream",
     "name": "stdout",
     "output_type": "stream",
     "text": [
      "+---+-----+------+\n| id| name|salary|\n+---+-----+------+\n|  1|user1|  2000|\n|  2|user2|  3000|\n|  2|user5|  9000|\n|  3|user3|  6000|\n+---+-----+------+\n\n"
     ]
    }
   ],
   "source": [
    "df2.dropDuplicates([\"id\",\"name\"]).show()"
   ]
  },
  {
   "cell_type": "code",
   "execution_count": 0,
   "metadata": {
    "application/vnd.databricks.v1+cell": {
     "cellMetadata": {
      "byteLimit": 2048000,
      "rowLimit": 10000
     },
     "inputWidgets": {},
     "nuid": "f0566fd3-1f10-44d5-b333-b951aeba236f",
     "showTitle": false,
     "title": ""
    }
   },
   "outputs": [
    {
     "output_type": "stream",
     "name": "stdout",
     "output_type": "stream",
     "text": [
      "+---+-----+------+\n| id| name|salary|\n+---+-----+------+\n|  1|user1|  2000|\n|  2|user2|  3000|\n|  3|user3|  6000|\n+---+-----+------+\n\n"
     ]
    }
   ],
   "source": [
    "df2.dropDuplicates([\"id\"]).show()"
   ]
  },
  {
   "cell_type": "code",
   "execution_count": 0,
   "metadata": {
    "application/vnd.databricks.v1+cell": {
     "cellMetadata": {
      "byteLimit": 2048000,
      "rowLimit": 10000
     },
     "inputWidgets": {},
     "nuid": "3d3d2e20-3248-432d-bc16-a50bfff4d58b",
     "showTitle": true,
     "title": "GroupBy Dataframe"
    }
   },
   "outputs": [
    {
     "output_type": "stream",
     "name": "stdout",
     "output_type": "stream",
     "text": [
      "+---+-----+------+\n| id| name|salary|\n+---+-----+------+\n|  1|user1|  2000|\n|  2|user2|  3000|\n|  1|user1|  3000|\n|  3|user3|  6000|\n|  2|user5|  9000|\n|  2|user2|  3000|\n+---+-----+------+\n\n"
     ]
    }
   ],
   "source": [
    "df2.show()"
   ]
  },
  {
   "cell_type": "code",
   "execution_count": 0,
   "metadata": {
    "application/vnd.databricks.v1+cell": {
     "cellMetadata": {
      "byteLimit": 2048000,
      "rowLimit": 10000
     },
     "inputWidgets": {},
     "nuid": "da88b9d9-0e3d-4303-a4f0-f955cb27e189",
     "showTitle": false,
     "title": ""
    }
   },
   "outputs": [
    {
     "output_type": "stream",
     "name": "stdout",
     "output_type": "stream",
     "text": [
      "+-----+-----------+\n| name|sum(salary)|\n+-----+-----------+\n|user1|       5000|\n|user2|       6000|\n|user3|       6000|\n|user5|       9000|\n+-----+-----------+\n\n"
     ]
    }
   ],
   "source": [
    "df4 = df2.groupBy(\"name\").sum(\"salary\")\n",
    "df4.show()"
   ]
  },
  {
   "cell_type": "code",
   "execution_count": 0,
   "metadata": {
    "application/vnd.databricks.v1+cell": {
     "cellMetadata": {
      "byteLimit": 2048000,
      "rowLimit": 10000
     },
     "inputWidgets": {},
     "nuid": "1b822507-e157-4690-97d4-5d2a12f2baa7",
     "showTitle": false,
     "title": ""
    }
   },
   "outputs": [
    {
     "output_type": "stream",
     "name": "stdout",
     "output_type": "stream",
     "text": [
      "+---+-----+------+\n| id| name|salary|\n+---+-----+------+\n|  1|user1|  2000|\n|  2|user2|  3000|\n|  1|user1|  3000|\n|  3|user3|  6000|\n|  2|user5|  9000|\n|  2|user2|  3000|\n+---+-----+------+\n\n"
     ]
    }
   ],
   "source": [
    "data = [(1, 'user1', 2000),\n",
    "        (2, 'user2', 3000),\n",
    "        (1, 'user1', 3000),\n",
    "        (3, 'user3', 6000),\n",
    "        (2, 'user5', 9000),\n",
    "        (2, 'user2', 3000)]\n",
    "\n",
    "# Define schema using DDL syntax\n",
    "schema_ddl = \"id INT, name STRING, salary INT\"\n",
    "\n",
    "# Create DataFrame with specified schema\n",
    "df2 = spark.createDataFrame(data, schema=schema_ddl)\n",
    "\n",
    "# Show DataFrame\n",
    "df2.show()"
   ]
  },
  {
   "cell_type": "code",
   "execution_count": 0,
   "metadata": {
    "application/vnd.databricks.v1+cell": {
     "cellMetadata": {
      "byteLimit": 2048000,
      "rowLimit": 10000
     },
     "inputWidgets": {},
     "nuid": "de7f9dae-6d12-4103-9f98-7142ae5fb498",
     "showTitle": false,
     "title": ""
    }
   },
   "outputs": [
    {
     "output_type": "stream",
     "name": "stdout",
     "output_type": "stream",
     "text": [
      "+---+-----+-----------+\n| id| name|min(salary)|\n+---+-----+-----------+\n|  1|user1|       2000|\n|  2|user2|       3000|\n|  3|user3|       6000|\n|  2|user5|       9000|\n+---+-----+-----------+\n\n"
     ]
    }
   ],
   "source": [
    "df4 = df2.groupBy(\"id\",\"name\").min(\"salary\")\n",
    "df4.show()"
   ]
  },
  {
   "cell_type": "code",
   "execution_count": 0,
   "metadata": {
    "application/vnd.databricks.v1+cell": {
     "cellMetadata": {
      "byteLimit": 2048000,
      "rowLimit": 10000
     },
     "inputWidgets": {},
     "nuid": "ee8fd649-8edd-446a-a47f-dbbe649fd0f1",
     "showTitle": false,
     "title": ""
    }
   },
   "outputs": [
    {
     "output_type": "stream",
     "name": "stdout",
     "output_type": "stream",
     "text": [
      "+---+-----+----------+---------+\n| id| name|max_salary|Total_sal|\n+---+-----+----------+---------+\n|  1|user1|      3000|     5000|\n|  2|user2|      3000|     6000|\n|  3|user3|      6000|     6000|\n|  2|user5|      9000|     9000|\n+---+-----+----------+---------+\n\n"
     ]
    }
   ],
   "source": [
    "\n",
    "from pyspark.sql.functions import max, sum, coalesce\n",
    "df5 = df2.groupBy('id','name').agg(max('salary').alias('max_salary'),sum('salary').alias('Total_sal'))\n",
    "df5.show()"
   ]
  }
 ],
 "metadata": {
  "application/vnd.databricks.v1+notebook": {
   "dashboards": [],
   "language": "python",
   "notebookMetadata": {
    "pythonIndentUnit": 4
   },
   "notebookName": "Spark_6",
   "widgets": {}
  }
 },
 "nbformat": 4,
 "nbformat_minor": 0
}
